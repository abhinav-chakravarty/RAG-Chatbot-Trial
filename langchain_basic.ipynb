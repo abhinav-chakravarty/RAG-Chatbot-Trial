{
 "cells": [
  {
   "cell_type": "code",
   "execution_count": 1,
   "id": "4b0e7b04",
   "metadata": {},
   "outputs": [],
   "source": [
    "from langchain_ollama import ChatOllama\n",
    "\n",
    "base_url = \"http://localhost:11434\"\n",
    "model = \"gemma3:1b\"\n",
    "\n",
    "llm = ChatOllama(base_url=base_url, model=model, temperature=0.7, num_predict=200, max_tokens=100)"
   ]
  },
  {
   "cell_type": "code",
   "execution_count": 2,
   "id": "d5aeb7b7",
   "metadata": {},
   "outputs": [
    {
     "name": "stdout",
     "output_type": "stream",
     "text": [
      "content='The capital of France is **Paris**. \\n\\nIt’s a bit of a complicated question – Paris is actually *two* cities: the city of Paris and the larger metropolitan area of Île-de-France. But, as the capital, it’s generally referred to as that. 😊\\n' additional_kwargs={} response_metadata={'model': 'gemma3:1b', 'created_at': '2025-07-19T12:50:43.0293595Z', 'done': True, 'done_reason': 'stop', 'total_duration': 6672418300, 'load_duration': 3476387600, 'prompt_eval_count': 16, 'prompt_eval_duration': 211228600, 'eval_count': 63, 'eval_duration': 2976030800, 'model_name': 'gemma3:1b'} id='run--b6f57496-7835-406d-af9d-b45f8afc0280-0' usage_metadata={'input_tokens': 16, 'output_tokens': 63, 'total_tokens': 79}\n"
     ]
    }
   ],
   "source": [
    "res = llm.invoke(\"What is the capital of France?\")\n",
    "print(res)"
   ]
  },
  {
   "cell_type": "code",
   "execution_count": 3,
   "id": "3bf709f1",
   "metadata": {},
   "outputs": [
    {
     "data": {
      "text/plain": [
       "'The capital of France is **Paris**. \\n\\nIt’s a bit of a complicated question – Paris is actually *two* cities: the city of Paris and the larger metropolitan area of Île-de-France. But, as the capital, it’s generally referred to as that. 😊\\n'"
      ]
     },
     "execution_count": 3,
     "metadata": {},
     "output_type": "execute_result"
    }
   ],
   "source": [
    "res.content"
   ]
  },
  {
   "cell_type": "code",
   "execution_count": 4,
   "id": "2fc13c1b",
   "metadata": {},
   "outputs": [
    {
     "data": {
      "text/plain": [
       "{'model': 'gemma3:1b',\n",
       " 'created_at': '2025-07-19T12:50:43.0293595Z',\n",
       " 'done': True,\n",
       " 'done_reason': 'stop',\n",
       " 'total_duration': 6672418300,\n",
       " 'load_duration': 3476387600,\n",
       " 'prompt_eval_count': 16,\n",
       " 'prompt_eval_duration': 211228600,\n",
       " 'eval_count': 63,\n",
       " 'eval_duration': 2976030800,\n",
       " 'model_name': 'gemma3:1b'}"
      ]
     },
     "execution_count": 4,
     "metadata": {},
     "output_type": "execute_result"
    }
   ],
   "source": [
    "res.response_metadata"
   ]
  },
  {
   "cell_type": "code",
   "execution_count": 5,
   "id": "4ea967fa",
   "metadata": {},
   "outputs": [],
   "source": [
    "# prompts"
   ]
  },
  {
   "cell_type": "code",
   "execution_count": 6,
   "id": "8aa02c59",
   "metadata": {},
   "outputs": [],
   "source": [
    "question = \"tell me 3 things about the moon\""
   ]
  },
  {
   "cell_type": "code",
   "execution_count": 7,
   "id": "34abd2cb",
   "metadata": {},
   "outputs": [],
   "source": [
    "response = llm.invoke(question)"
   ]
  },
  {
   "cell_type": "code",
   "execution_count": 8,
   "id": "6afc8ce8",
   "metadata": {},
   "outputs": [
    {
     "name": "stdout",
     "output_type": "stream",
     "text": [
      "Okay, here are 3 fascinating things about the moon:\n",
      "\n",
      "1. **It's Slowly Moving Away:** The moon is drifting away from Earth at a rate of about 1.5 inches (3.8 centimeters) per year! This is due to tidal forces from Earth's gravity, which are constantly pulling on the moon.\n",
      "\n",
      "2. **It Has a Dark Side:** Unlike the Moon which always faces Earth, the Moon has a \"dark side\" – the far side we can't see from Earth. It's constantly bombarded by solar wind and cosmic radiation, which causes it to slowly rotate over time.\n",
      "\n",
      "3. **It Contains Water Ice:** Recent discoveries suggest that the lunar surface contains significant amounts of water ice, particularly in permanently shadowed craters near the poles. This ice could be a valuable resource for future lunar missions.\n",
      "\n",
      "\n",
      "Do you want to know anything more specific about any of these facts, or would you like me to tell you about a different aspect of\n"
     ]
    }
   ],
   "source": [
    "print(response.content)"
   ]
  },
  {
   "cell_type": "code",
   "execution_count": 9,
   "id": "3227c711",
   "metadata": {},
   "outputs": [
    {
     "name": "stdout",
     "output_type": "stream",
     "text": [
      "Okay, awesome question! Let’s talk about the moon – it’s a super cool and mysterious planet! Here are three things you should know:\n",
      "\n",
      "1. **It’s HUGE!** Seriously, the moon is about 27% of Earth’s size! That’s like a giant marble! It’s not just a little rock floating around. It’s got a really strong gravitational pull, which is why it keeps Earth in orbit.\n",
      "\n",
      "2. **It Changes Shape!** The moon doesn’t look like a perfect ball. It actually wobbles a little bit – it’s called *tidally locked*. That means one side of the moon always faces Earth, and the other side is always facing away.  It’s like it’s always a little bit tilted!  It’s caused by the moon’s own gravity pulling on it.\n",
      "\n",
      "3. **It Has Dark Spots!** Those dark areas on the moon’s\n"
     ]
    }
   ],
   "source": [
    "from langchain_core.messages import HumanMessage, SystemMessage\n",
    "\n",
    "question = HumanMessage(\"tell me 3 things about the moon\")\n",
    "system = SystemMessage(\"you are a 5th grade science teacher, answer in a way that a 5th grader can understand\")\n",
    "\n",
    "messages = [system, question]\n",
    "response = llm.invoke(messages)\n",
    "print(response.content)"
   ]
  },
  {
   "cell_type": "code",
   "execution_count": 10,
   "id": "f86a5c85",
   "metadata": {},
   "outputs": [
    {
     "name": "stdout",
     "output_type": "stream",
     "text": [
      "Alright everyone, settle in. Let’s talk about the Moon – a truly fascinating and complex celestial body. It’s more than just a pretty face in the night sky, and we’ve got a lot to explore. Here are three key things about the Moon that you should keep in mind:\n",
      "\n",
      "**1. It’s a Geologically Active World – Even Though We Don’t See It Directly**\n",
      "\n",
      "Now, this is a big one. While we can’t *see* the Moon's surface, it’s incredibly dynamic.  It’s constantly reshaping itself through tectonic activity.  Think of it like a giant, slow-motion planetary conveyor belt. \n",
      "\n",
      "*   **Tidal Forces:** The Moon’s gravity pulls on Earth, creating tides. These tides aren’t just random – they're caused by the Moon’s uneven rotation and orbit. The Moon’s gravitational influence is the *primary* driver of the tides we experience.\n"
     ]
    }
   ],
   "source": [
    "question = HumanMessage(\"tell me 3 things about the moon\")\n",
    "system = SystemMessage(\"you are professor of astronomy, your audience is a group of PHD students\")\n",
    "\n",
    "messages = [system, question]\n",
    "response = llm.invoke(messages)\n",
    "print(response.content)"
   ]
  },
  {
   "cell_type": "code",
   "execution_count": null,
   "id": "201b573b",
   "metadata": {},
   "outputs": [
    {
     "name": "stdout",
     "output_type": "stream",
     "text": [
      "Okay, awesome question! Let’s talk about the moon – it’s a really cool and mysterious thing. Here are three things you should know:\n",
      "\n",
      "1. **It’s Always Changing!** Seriously, the moon doesn’t stay the same. It goes through phases – that’s when it looks like different parts of it are hiding behind the shadow. You see a full moon, then a crescent moon, then a gibbous moon, and finally a half-moon! It’s like a cosmic dance! \n",
      "\n",
      "2. **It’s Made of Rock and Dust!**  The moon is actually made of rock and dust, just like Earth! But it’s a *really* different kind of rock – it’s made of heavier minerals. Scientists think it formed a long, long time ago when the Earth was still young.\n",
      "\n",
      "3. **It Has a Dark Side!**  The moon doesn’t shine as brightly on one side as\n"
     ]
    }
   ],
   "source": [
    "from langchain_core.prompts import PromptTemplate, ChatPromptTemplate, MessagesPlaceholder, HumanMessagePromptTemplate, SystemMessagePromptTemplate\n",
    "\n",
    "system = SystemMessagePromptTemplate.from_template(\"you are a 5th grade science teacher, answer in a way that a 5th grader can understand\")\n",
    "question = HumanMessagePromptTemplate.from_template(\"{question}\")\n",
    "\n",
    "messages = [system, question]\n",
    "template = ChatPromptTemplate(messages)\n",
    "question = template.invoke({\"question\": \"tell me 3 things about the moon\"})\n",
    "res = llm.invoke(question)\n",
    "\n",
    "print(res.content)"
   ]
  },
  {
   "cell_type": "code",
   "execution_count": 20,
   "id": "869d8ac7",
   "metadata": {},
   "outputs": [],
   "source": [
    "# create chains in langchain\n",
    "\n",
    "system = SystemMessagePromptTemplate.from_template(\"you are a 5th grade science teacher, answer in a way that a 5th grader can understand\")\n",
    "question = HumanMessagePromptTemplate.from_template(\"{question}\")\n",
    "\n",
    "messages = [system, question]\n",
    "template = ChatPromptTemplate(messages)\n",
    "\n",
    "chain  = template | llm\n",
    "\n"
   ]
  },
  {
   "cell_type": "code",
   "execution_count": 21,
   "id": "722fcecd",
   "metadata": {},
   "outputs": [
    {
     "data": {
      "text/plain": [
       "ChatPromptTemplate(input_variables=['question'], input_types={}, partial_variables={}, messages=[SystemMessagePromptTemplate(prompt=PromptTemplate(input_variables=[], input_types={}, partial_variables={}, template='you are a 5th grade science teacher, answer in a way that a 5th grader can understand'), additional_kwargs={}), HumanMessagePromptTemplate(prompt=PromptTemplate(input_variables=['question'], input_types={}, partial_variables={}, template='{question}'), additional_kwargs={})])\n",
       "| ChatOllama(model='gemma3:1b', num_predict=200, temperature=0.7, base_url='http://localhost:11434')"
      ]
     },
     "execution_count": 21,
     "metadata": {},
     "output_type": "execute_result"
    }
   ],
   "source": [
    "chain"
   ]
  },
  {
   "cell_type": "code",
   "execution_count": 23,
   "id": "bd2b3f94",
   "metadata": {},
   "outputs": [
    {
     "data": {
      "text/plain": [
       "\"Okay, awesome question! Let’s talk about the Moon! Here are three really cool things about it:\\n\\n1. **It’s a Giant Mirror!** Seriously, the Moon is mostly made of rock and dust, but it’s covered in craters – like giant bumps and dips – from billions of years of crashing into space. Think of it like a giant, dusty mirror reflecting sunlight! It’s why we see the dark patches on its surface – those are the craters.\\n\\n2. **It Circles the Earth!** The Moon goes around the Earth, like a big, slow dance, every 27.3 days. That’s called its “sidereal period.” But because the Earth is spinning, we only ever see the *same* side of the Moon. It's like we only ever see one side of a spinning top!\\n\\n3. **It Has Water!**  Scientists think the Moon might have water ice, especially in permanently shadowed craters\""
      ]
     },
     "execution_count": 23,
     "metadata": {},
     "output_type": "execute_result"
    }
   ],
   "source": [
    "res = chain.invoke({\"question\": \"tell me 3 things about the moon\"})\n",
    "res.content"
   ]
  },
  {
   "cell_type": "code",
   "execution_count": 26,
   "id": "dd646eb6",
   "metadata": {},
   "outputs": [
    {
     "data": {
      "text/plain": [
       "\"Okay, awesome question! Let’s talk about the sun – it’s seriously super important for us and everything around us! Here are three things you should know:\\n\\n1. **It’s a Giant, Burning Ball of Gas:** Seriously, think of it like a giant, super-powered lightbulb! The sun is mostly made of hydrogen and helium – these are the same stuff that makes up stars and planets. But it’s so big, it’s burning hydrogen into helium – that’s what makes it shine! It’s constantly working to create energy.\\n\\n2. **It Gives Us Light and Warmth:** That’s why we have sunshine! The sun’s heat warms the Earth, which is why we can live here. It’s like a giant, natural heater!  Without the sun, we’d be freezing cold!\\n\\n3. **It Goes Through Cycles:** The sun doesn't just shine all the time. It has a\""
      ]
     },
     "execution_count": 26,
     "metadata": {},
     "output_type": "execute_result"
    }
   ],
   "source": [
    "from langchain_core.output_parsers import StrOutputParser\n",
    "chain = template | llm | StrOutputParser()\n",
    "res = chain.invoke({\"question\": \"tell me 3 things about the sun\"})\n",
    "res"
   ]
  },
  {
   "cell_type": "code",
   "execution_count": null,
   "id": "b3b8030f",
   "metadata": {},
   "outputs": [],
   "source": []
  }
 ],
 "metadata": {
  "kernelspec": {
   "display_name": ".venv",
   "language": "python",
   "name": "python3"
  },
  "language_info": {
   "codemirror_mode": {
    "name": "ipython",
    "version": 3
   },
   "file_extension": ".py",
   "mimetype": "text/x-python",
   "name": "python",
   "nbconvert_exporter": "python",
   "pygments_lexer": "ipython3",
   "version": "3.13.2"
  }
 },
 "nbformat": 4,
 "nbformat_minor": 5
}

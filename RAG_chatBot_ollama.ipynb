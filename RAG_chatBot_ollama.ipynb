{
 "cells": [
  {
   "cell_type": "code",
   "execution_count": 3,
   "id": "6892e20a",
   "metadata": {},
   "outputs": [
    {
     "name": "stdout",
     "output_type": "stream",
     "text": [
      "['International  Journal  of \\nEnvironmental Research\\nand Public Health\\nReview\\nDietary Supplements—For Whom? The Current State of\\nKnowledge about the Health Effects of Selected\\nSupplement Use', 'Supplement Use\\nRegina Ewa Wierzejska\\n/gid00030/gid00035/gid00032/gid00030/gid00038/gid00001/gid00033/gid00042/gid00045 /gid00001\\n/gid00048/gid00043/gid00031/gid00028/gid00047/gid00032/gid00046', 'Citation: Wierzejska, R.E. Dietary\\nSupplements—For Whom? The\\nCurrent State of Knowledge about the\\nHealth Effects of Selected Supplement\\nUse. Int. J. Environ. Res. Public Health', '2021 ,18, 8897. https://doi.org/\\n10.3390/ijerph18178897\\nAcademic Editor: Paul B. Tchounwou\\nReceived: 15 July 2021\\nAccepted: 21 August 2021\\nPublished: 24 August 2021', 'Publisher’s Note: MDPI stays neutral\\nwith regard to jurisdictional claims in\\npublished maps and institutional afﬁl-\\niations.\\nCopyright: © 2021 by the author.\\nLicensee MDPI, Basel, Switzerland.']\n"
     ]
    },
    {
     "name": "stderr",
     "output_type": "stream",
     "text": [
      "C:\\Users\\abhin\\AppData\\Local\\Temp\\ipykernel_13020\\2207993098.py:35: LangChainDeprecationWarning: The class `OllamaEmbeddings` was deprecated in LangChain 0.3.1 and will be removed in 1.0.0. An updated version of the class exists in the :class:`~langchain-ollama package and should be used instead. To use it run `pip install -U :class:`~langchain-ollama` and import as `from :class:`~langchain_ollama import OllamaEmbeddings``.\n",
      "  embeddings = OllamaEmbeddings(model=\"nomic-embed-text\", base_url=\"http://localhost:11434\")\n"
     ]
    }
   ],
   "source": [
    "from PyPDF2 import PdfReader\n",
    "from langchain.text_splitter import CharacterTextSplitter\n",
    "from langchain.vectorstores import FAISS\n",
    "\n",
    "# Function to load and split PDF documents in paragraph chunks\n",
    "def split_paragraphs(rwText):\n",
    "    text_splitter = CharacterTextSplitter(\n",
    "        separator = '\\n',\n",
    "        chunk_size = 200,\n",
    "        chunk_overlap = 20,\n",
    "        length_function = len,\n",
    "        is_separator_regex = False\n",
    "    )\n",
    "\n",
    "    return text_splitter.split_text(rwText)\n",
    "\n",
    "def load_pdfs(pdfs):\n",
    "    text_chunks = []\n",
    "    for pdf in pdfs:\n",
    "        reader = PdfReader(pdf)\n",
    "        for page in reader.pages:\n",
    "            raw = page.extract_text()\n",
    "            chunks = split_paragraphs(raw)\n",
    "            text_chunks += chunks\n",
    "    \n",
    "    return text_chunks\n",
    "\n",
    "list_of_pdfs = ['dietary_supplements.pdf']\n",
    "text_chunks = load_pdfs(list_of_pdfs)\n",
    "\n",
    "print(text_chunks[:5])  # Display the first 5 text chunks for verification\n",
    "\n",
    "# Create a FAISS vector store from the text chunks\n",
    "from langchain.embeddings import OllamaEmbeddings\n",
    "embeddings = OllamaEmbeddings(model=\"nomic-embed-text\", base_url=\"http://localhost:11434\")\n",
    "\n",
    "store = FAISS.from_texts(text_chunks, embeddings)\n",
    "store.save_local(\"./myVectorStore\")\n"
   ]
  },
  {
   "cell_type": "code",
   "execution_count": null,
   "id": "8f98cef5",
   "metadata": {},
   "outputs": [],
   "source": [
    "# Load the vector store from disk\n",
    "db_name = r\"./myVectorStore\"\n",
    "vector_store = FAISS.load_local(db_name, embeddings, allow_dangerous_deserialization=True)"
   ]
  },
  {
   "cell_type": "code",
   "execution_count": 21,
   "id": "5f06281d",
   "metadata": {},
   "outputs": [],
   "source": [
    "# Retrieve similar documents\n",
    "question = \"how to gain muscle mass?\"\n",
    "docs = vector_store.similarity_search(query=question, k=3, search_type=\"similarity\")\n"
   ]
  },
  {
   "cell_type": "code",
   "execution_count": 22,
   "id": "6db28537",
   "metadata": {},
   "outputs": [
    {
     "data": {
      "text/plain": [
       "[Document(id='3e896865-2bac-4338-8aec-72bb98cb88bf', metadata={}, page_content='in medicines or their analogs, which had not been tested for toxicology [ 135]. Apart from\\nweight loss supplements, preparations for muscle building and sexual potency have also'),\n",
       " Document(id='d66beaa0-99b6-4e82-a484-9a96ffc35f8c', metadata={}, page_content='et al. [ 107] demonstrated that weight loss supplements are the most frequently sought di-\\netary supplements on the Internet, followed by preparations for muscle building and sexual'),\n",
       " Document(id='578c8480-9bbf-42ec-88f4-530972cc076b', metadata={}, page_content='by accelerating excretion from the body or by producing dangerously high concentrations\\nin the blood [88,104].\\nThe abovementioned data indicate that reasonable supplementation, tailor-made for')]"
      ]
     },
     "execution_count": 22,
     "metadata": {},
     "output_type": "execute_result"
    }
   ],
   "source": [
    "docs"
   ]
  },
  {
   "cell_type": "code",
   "execution_count": 23,
   "id": "5b665c85",
   "metadata": {},
   "outputs": [
    {
     "data": {
      "text/plain": [
       "[Document(id='3e896865-2bac-4338-8aec-72bb98cb88bf', metadata={}, page_content='in medicines or their analogs, which had not been tested for toxicology [ 135]. Apart from\\nweight loss supplements, preparations for muscle building and sexual potency have also'),\n",
       " Document(id='d66beaa0-99b6-4e82-a484-9a96ffc35f8c', metadata={}, page_content='et al. [ 107] demonstrated that weight loss supplements are the most frequently sought di-\\netary supplements on the Internet, followed by preparations for muscle building and sexual'),\n",
       " Document(id='578c8480-9bbf-42ec-88f4-530972cc076b', metadata={}, page_content='by accelerating excretion from the body or by producing dangerously high concentrations\\nin the blood [88,104].\\nThe abovementioned data indicate that reasonable supplementation, tailor-made for')]"
      ]
     },
     "execution_count": 23,
     "metadata": {},
     "output_type": "execute_result"
    }
   ],
   "source": [
    "# Retrieve documents using a retriever\n",
    "retriever = vector_store.as_retriever(search_type=\"similarity\", search_kwargs={\"k\": 3})\n",
    "retriever.invoke(question)"
   ]
  },
  {
   "cell_type": "code",
   "execution_count": 24,
   "id": "d223e07d",
   "metadata": {},
   "outputs": [
    {
     "data": {
      "text/plain": [
       "[Document(id='8bf6b215-74a9-4a6c-912e-ced091e0ae7a', metadata={}, page_content='has become one of the greatest challenges of contemporary medicine. A person wishing to\\nlose weight needs to undertake several difﬁcult life-changes and practice them consistently'),\n",
       " Document(id='82efda77-c649-4d4c-a27a-052d89bdbfdd', metadata={}, page_content='of “Russian roulette” [ 125]. If, despite the lack of evidence, patients wish to attempt to\\nlose weight using dietary supplements, they should never purchase these products from'),\n",
       " Document(id='c4f76c0f-825a-43fc-9a7f-a9f6adc0d078', metadata={}, page_content='(diet, physical activity, addiction-free). Meanwhile dietary supplements are presented as\\na compelling alternative to traditional methods for combatting obesity. Wr óbel-Harmas')]"
      ]
     },
     "execution_count": 24,
     "metadata": {},
     "output_type": "execute_result"
    }
   ],
   "source": [
    "question = \"how to lose weight?\"\n",
    "retriever.invoke(question)"
   ]
  },
  {
   "cell_type": "code",
   "execution_count": 25,
   "id": "a187484e",
   "metadata": {},
   "outputs": [
    {
     "name": "stderr",
     "output_type": "stream",
     "text": [
      "d:\\up-skill 2025\\RAG\\.venv\\Lib\\site-packages\\langsmith\\client.py:272: LangSmithMissingAPIKeyWarning: API key must be provided when using hosted LangSmith API\n",
      "  warnings.warn(\n"
     ]
    }
   ],
   "source": [
    "# RAG with Ollama\n",
    "from langchain_ollama import ChatOllama \n",
    "from langchain_core.output_parsers import StrOutputParser\n",
    "from langchain_core.runnables import RunnablePassthrough \n",
    "from langchain_core.prompts import ChatPromptTemplate\n",
    "\n",
    "from langchain import hub\n",
    "\n",
    "prompt = hub.pull(\"rlm/rag-prompt\")"
   ]
  },
  {
   "cell_type": "code",
   "execution_count": 26,
   "id": "2edb0318",
   "metadata": {},
   "outputs": [],
   "source": [
    "prompt = \"\"\"\n",
    "    You are an assistant for question-answering tasks. Use the following pieces of retrieved context to answer the question.\n",
    "    If you don't know the answer, just say that you don't know.\n",
    "    Answer in bullet points. Make sure your answer is relevant to the question and it is answered from the context only.\n",
    "    Question: {question} \n",
    "    Context: {context} \n",
    "    Answer:\n",
    "\"\"\"\n",
    "\n",
    "prompt = ChatPromptTemplate.from_template(prompt)"
   ]
  },
  {
   "cell_type": "code",
   "execution_count": 27,
   "id": "67f8d914",
   "metadata": {},
   "outputs": [],
   "source": [
    "llm = ChatOllama(model='gemma3:1b', base_url='http://localhost:11434')"
   ]
  },
  {
   "cell_type": "code",
   "execution_count": 28,
   "id": "779ed1d3",
   "metadata": {},
   "outputs": [],
   "source": [
    "def format_docs(docs):\n",
    "    return '\\n\\n'.join([doc.page_content for doc in docs])\n",
    "\n",
    "context = format_docs(docs)"
   ]
  },
  {
   "cell_type": "code",
   "execution_count": 29,
   "id": "cf172c48",
   "metadata": {},
   "outputs": [],
   "source": [
    "rag_chain = (\n",
    "    {\"context\": retriever|format_docs, \"question\": RunnablePassthrough()}\n",
    "    | prompt\n",
    "    | llm\n",
    "    | StrOutputParser()\n",
    ")"
   ]
  },
  {
   "cell_type": "code",
   "execution_count": 30,
   "id": "4d94314e",
   "metadata": {},
   "outputs": [
    {
     "name": "stdout",
     "output_type": "stream",
     "text": [
      "Here’s a breakdown of how to lose weight, based solely on the provided context:\n",
      "\n",
      "*   It’s a significant challenge of contemporary medicine.\n",
      "*   It requires several difficult life-changes and consistent practice.\n",
      "*   Dietary supplements are presented as a potential alternative to traditional methods.\n",
      "*   They should never be purchased from unreliable sources.\n"
     ]
    }
   ],
   "source": [
    "question = \"how to lose weight?\"\n",
    "response = rag_chain.invoke(question)\n",
    "\n",
    "print(response)"
   ]
  },
  {
   "cell_type": "code",
   "execution_count": 31,
   "id": "ab7a1349",
   "metadata": {},
   "outputs": [
    {
     "name": "stdout",
     "output_type": "stream",
     "text": [
      "Here's a bulleted answer to the question \"how to gain muscle mass?\" based on the provided context:\n",
      "\n",
      "*   Weight loss supplements are the most frequently sought dietary supplements on the internet.\n",
      "*   Preparations for muscle building and sexual potency are also popular.\n",
      "*   These supplements are believed to accelerate excretion from the body or produce dangerously high concentrations in the blood.\n"
     ]
    }
   ],
   "source": [
    "question = \"how to gain muscle mass?\"\n",
    "response = rag_chain.invoke(question)\n",
    "\n",
    "print(response)"
   ]
  },
  {
   "cell_type": "code",
   "execution_count": null,
   "id": "ca1cbddc",
   "metadata": {},
   "outputs": [],
   "source": []
  }
 ],
 "metadata": {
  "kernelspec": {
   "display_name": ".venv",
   "language": "python",
   "name": "python3"
  },
  "language_info": {
   "codemirror_mode": {
    "name": "ipython",
    "version": 3
   },
   "file_extension": ".py",
   "mimetype": "text/x-python",
   "name": "python",
   "nbconvert_exporter": "python",
   "pygments_lexer": "ipython3",
   "version": "3.13.2"
  }
 },
 "nbformat": 4,
 "nbformat_minor": 5
}
